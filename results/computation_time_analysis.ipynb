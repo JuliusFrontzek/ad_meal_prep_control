{
 "cells": [
  {
   "cell_type": "code",
   "execution_count": 120,
   "metadata": {},
   "outputs": [],
   "source": [
    "import numpy as np\n",
    "import os\n",
    "import pandas as pd\n",
    "import seaborn as sns\n",
    "import matplotlib.pyplot as plt"
   ]
  },
  {
   "cell_type": "code",
   "execution_count": 121,
   "metadata": {},
   "outputs": [
    {
     "data": {
      "text/plain": [
       "'/home/julius/Documents/Studium/Master/Masterarbeit/ad_meal_prep_control/results'"
      ]
     },
     "execution_count": 121,
     "metadata": {},
     "output_type": "execute_result"
    }
   ],
   "source": [
    "os.getcwd()"
   ]
  },
  {
   "cell_type": "code",
   "execution_count": 122,
   "metadata": {},
   "outputs": [],
   "source": [
    "scenario_file_names = [\n",
    "    \"Scenario_1a_quadratic\",\n",
    "    \"Scenario_1b_non_robust\",\n",
    "    \"Scenario_2c_dynamic\",\n",
    "]\n",
    "scenario_plot_names = [\"Scenario 1a\", \"Scenario 1b\", \"Scenario 2c\"]"
   ]
  },
  {
   "cell_type": "code",
   "execution_count": 123,
   "metadata": {},
   "outputs": [],
   "source": [
    "comp_times_all = np.array(\n",
    "    [\n",
    "        np.loadtxt(f\"./{scenario_file_name}_mpc_computation_times_mikro_secs.txt\")\n",
    "        for scenario_file_name in scenario_file_names\n",
    "    ]\n",
    ")"
   ]
  },
  {
   "cell_type": "code",
   "execution_count": 124,
   "metadata": {},
   "outputs": [],
   "source": [
    "comp_times_all = comp_times_all.T"
   ]
  },
  {
   "cell_type": "code",
   "execution_count": 125,
   "metadata": {},
   "outputs": [
    {
     "data": {
      "text/plain": [
       "array([[ 120499.5 ,  112233.25, 2898646.75],\n",
       "       [ 103184.  ,  113712.  , 2377299.75],\n",
       "       [ 102501.  ,   96668.  , 2679397.25],\n",
       "       ...,\n",
       "       [ 100036.25,  103265.25, 2116535.5 ],\n",
       "       [  97096.25,  103840.  , 1384178.5 ],\n",
       "       [ 101618.75,  100310.25, 1543907.5 ]])"
      ]
     },
     "execution_count": 125,
     "metadata": {},
     "output_type": "execute_result"
    }
   ],
   "source": [
    "comp_times_all"
   ]
  },
  {
   "cell_type": "code",
   "execution_count": 126,
   "metadata": {},
   "outputs": [],
   "source": [
    "df = (\n",
    "    pd.DataFrame(\n",
    "        np.vstack([comp_times for comp_times in comp_times_all]),\n",
    "    )\n",
    "    / 1_000_000\n",
    ")"
   ]
  },
  {
   "cell_type": "code",
   "execution_count": 127,
   "metadata": {},
   "outputs": [],
   "source": [
    "df = df.loc[~(df == 0).all(axis=1)]"
   ]
  },
  {
   "cell_type": "code",
   "execution_count": 128,
   "metadata": {},
   "outputs": [],
   "source": [
    "df = df.rename(\n",
    "    columns={col_old: col_new for col_old, col_new in enumerate(scenario_plot_names)}\n",
    ")"
   ]
  },
  {
   "cell_type": "code",
   "execution_count": 129,
   "metadata": {},
   "outputs": [
    {
     "data": {
      "text/html": [
       "<div>\n",
       "<style scoped>\n",
       "    .dataframe tbody tr th:only-of-type {\n",
       "        vertical-align: middle;\n",
       "    }\n",
       "\n",
       "    .dataframe tbody tr th {\n",
       "        vertical-align: top;\n",
       "    }\n",
       "\n",
       "    .dataframe thead th {\n",
       "        text-align: right;\n",
       "    }\n",
       "</style>\n",
       "<table border=\"1\" class=\"dataframe\">\n",
       "  <thead>\n",
       "    <tr style=\"text-align: right;\">\n",
       "      <th></th>\n",
       "      <th>Scenario 1a</th>\n",
       "      <th>Scenario 1b</th>\n",
       "      <th>Scenario 2c</th>\n",
       "    </tr>\n",
       "  </thead>\n",
       "  <tbody>\n",
       "    <tr>\n",
       "      <th>0</th>\n",
       "      <td>0.120499</td>\n",
       "      <td>0.112233</td>\n",
       "      <td>2.898647</td>\n",
       "    </tr>\n",
       "    <tr>\n",
       "      <th>1</th>\n",
       "      <td>0.103184</td>\n",
       "      <td>0.113712</td>\n",
       "      <td>2.377300</td>\n",
       "    </tr>\n",
       "    <tr>\n",
       "      <th>2</th>\n",
       "      <td>0.102501</td>\n",
       "      <td>0.096668</td>\n",
       "      <td>2.679397</td>\n",
       "    </tr>\n",
       "    <tr>\n",
       "      <th>3</th>\n",
       "      <td>0.317344</td>\n",
       "      <td>0.093781</td>\n",
       "      <td>2.754821</td>\n",
       "    </tr>\n",
       "    <tr>\n",
       "      <th>4</th>\n",
       "      <td>0.100551</td>\n",
       "      <td>0.414620</td>\n",
       "      <td>2.624116</td>\n",
       "    </tr>\n",
       "    <tr>\n",
       "      <th>...</th>\n",
       "      <td>...</td>\n",
       "      <td>...</td>\n",
       "      <td>...</td>\n",
       "    </tr>\n",
       "    <tr>\n",
       "      <th>1435</th>\n",
       "      <td>0.100897</td>\n",
       "      <td>0.109717</td>\n",
       "      <td>2.024869</td>\n",
       "    </tr>\n",
       "    <tr>\n",
       "      <th>1436</th>\n",
       "      <td>0.103148</td>\n",
       "      <td>0.102100</td>\n",
       "      <td>2.245649</td>\n",
       "    </tr>\n",
       "    <tr>\n",
       "      <th>1437</th>\n",
       "      <td>0.100036</td>\n",
       "      <td>0.103265</td>\n",
       "      <td>2.116535</td>\n",
       "    </tr>\n",
       "    <tr>\n",
       "      <th>1438</th>\n",
       "      <td>0.097096</td>\n",
       "      <td>0.103840</td>\n",
       "      <td>1.384178</td>\n",
       "    </tr>\n",
       "    <tr>\n",
       "      <th>1439</th>\n",
       "      <td>0.101619</td>\n",
       "      <td>0.100310</td>\n",
       "      <td>1.543907</td>\n",
       "    </tr>\n",
       "  </tbody>\n",
       "</table>\n",
       "<p>1440 rows × 3 columns</p>\n",
       "</div>"
      ],
      "text/plain": [
       "      Scenario 1a  Scenario 1b  Scenario 2c\n",
       "0        0.120499     0.112233     2.898647\n",
       "1        0.103184     0.113712     2.377300\n",
       "2        0.102501     0.096668     2.679397\n",
       "3        0.317344     0.093781     2.754821\n",
       "4        0.100551     0.414620     2.624116\n",
       "...           ...          ...          ...\n",
       "1435     0.100897     0.109717     2.024869\n",
       "1436     0.103148     0.102100     2.245649\n",
       "1437     0.100036     0.103265     2.116535\n",
       "1438     0.097096     0.103840     1.384178\n",
       "1439     0.101619     0.100310     1.543907\n",
       "\n",
       "[1440 rows x 3 columns]"
      ]
     },
     "execution_count": 129,
     "metadata": {},
     "output_type": "execute_result"
    }
   ],
   "source": [
    "df"
   ]
  },
  {
   "cell_type": "code",
   "execution_count": 130,
   "metadata": {},
   "outputs": [],
   "source": [
    "df_description = df.describe()"
   ]
  },
  {
   "cell_type": "code",
   "execution_count": 131,
   "metadata": {},
   "outputs": [
    {
     "data": {
      "text/html": [
       "<div>\n",
       "<style scoped>\n",
       "    .dataframe tbody tr th:only-of-type {\n",
       "        vertical-align: middle;\n",
       "    }\n",
       "\n",
       "    .dataframe tbody tr th {\n",
       "        vertical-align: top;\n",
       "    }\n",
       "\n",
       "    .dataframe thead th {\n",
       "        text-align: right;\n",
       "    }\n",
       "</style>\n",
       "<table border=\"1\" class=\"dataframe\">\n",
       "  <thead>\n",
       "    <tr style=\"text-align: right;\">\n",
       "      <th></th>\n",
       "      <th>Scenario 1a</th>\n",
       "      <th>Scenario 1b</th>\n",
       "      <th>Scenario 2c</th>\n",
       "    </tr>\n",
       "  </thead>\n",
       "  <tbody>\n",
       "    <tr>\n",
       "      <th>count</th>\n",
       "      <td>1440.000000</td>\n",
       "      <td>1440.000000</td>\n",
       "      <td>1440.000000</td>\n",
       "    </tr>\n",
       "    <tr>\n",
       "      <th>mean</th>\n",
       "      <td>0.135278</td>\n",
       "      <td>0.169881</td>\n",
       "      <td>2.576336</td>\n",
       "    </tr>\n",
       "    <tr>\n",
       "      <th>std</th>\n",
       "      <td>0.086400</td>\n",
       "      <td>0.092395</td>\n",
       "      <td>1.040738</td>\n",
       "    </tr>\n",
       "    <tr>\n",
       "      <th>min</th>\n",
       "      <td>0.076478</td>\n",
       "      <td>0.078914</td>\n",
       "      <td>1.329492</td>\n",
       "    </tr>\n",
       "    <tr>\n",
       "      <th>25%</th>\n",
       "      <td>0.098083</td>\n",
       "      <td>0.107089</td>\n",
       "      <td>2.236168</td>\n",
       "    </tr>\n",
       "    <tr>\n",
       "      <th>50%</th>\n",
       "      <td>0.102737</td>\n",
       "      <td>0.135292</td>\n",
       "      <td>2.472477</td>\n",
       "    </tr>\n",
       "    <tr>\n",
       "      <th>75%</th>\n",
       "      <td>0.131093</td>\n",
       "      <td>0.195422</td>\n",
       "      <td>2.693867</td>\n",
       "    </tr>\n",
       "    <tr>\n",
       "      <th>max</th>\n",
       "      <td>1.257346</td>\n",
       "      <td>0.763258</td>\n",
       "      <td>16.038622</td>\n",
       "    </tr>\n",
       "  </tbody>\n",
       "</table>\n",
       "</div>"
      ],
      "text/plain": [
       "       Scenario 1a  Scenario 1b  Scenario 2c\n",
       "count  1440.000000  1440.000000  1440.000000\n",
       "mean      0.135278     0.169881     2.576336\n",
       "std       0.086400     0.092395     1.040738\n",
       "min       0.076478     0.078914     1.329492\n",
       "25%       0.098083     0.107089     2.236168\n",
       "50%       0.102737     0.135292     2.472477\n",
       "75%       0.131093     0.195422     2.693867\n",
       "max       1.257346     0.763258    16.038622"
      ]
     },
     "execution_count": 131,
     "metadata": {},
     "output_type": "execute_result"
    }
   ],
   "source": [
    "df_description"
   ]
  },
  {
   "cell_type": "code",
   "execution_count": 132,
   "metadata": {},
   "outputs": [],
   "source": [
    "df_description = df_description.drop([\"count\", \"25%\", \"75%\"])"
   ]
  },
  {
   "cell_type": "code",
   "execution_count": 133,
   "metadata": {},
   "outputs": [],
   "source": [
    "df_description = df_description.rename(\n",
    "    index={\"std\": \"standard deviation\", \"50%\": \"median\"}\n",
    ")"
   ]
  },
  {
   "cell_type": "code",
   "execution_count": null,
   "metadata": {},
   "outputs": [],
   "source": []
  },
  {
   "cell_type": "code",
   "execution_count": null,
   "metadata": {},
   "outputs": [],
   "source": []
  },
  {
   "cell_type": "code",
   "execution_count": 134,
   "metadata": {},
   "outputs": [
    {
     "data": {
      "image/png": "[encoded data removed]",
      "text/plain": [
       "<Figure size 640x480 with 1 Axes>"
      ]
     },
     "metadata": {},
     "output_type": "display_data"
    }
   ],
   "source": [
    "# Draw a vertical boxplot grouped\n",
    "# by a categorical variable:\n",
    "\n",
    "fig, ax = plt.subplots()\n",
    "ax.set_ylabel(\"Time [s]\", rotation=0, labelpad=25)\n",
    "ax.grid(True, linestyle=\"--\")\n",
    "sns.set_style(\"whitegrid\")\n",
    "sns.boxplot(data=df, ax=ax)\n",
    "fig.tight_layout()\n",
    "\n",
    "fig.savefig(fname=\"runtime_boxplot.png\", dpi=600)"
   ]
  },
  {
   "cell_type": "code",
   "execution_count": 135,
   "metadata": {},
   "outputs": [
    {
     "ename": "NameError",
     "evalue": "name 'scenario_file_name' is not defined",
     "output_type": "error",
     "traceback": [
      "\u001b[0;31m---------------------------------------------------------------------------\u001b[0m",
      "\u001b[0;31mNameError\u001b[0m                                 Traceback (most recent call last)",
      "Cell \u001b[0;32mIn[135], line 2\u001b[0m\n\u001b[1;32m      1\u001b[0m df_description\u001b[38;5;241m.\u001b[39mto_latex(\n\u001b[0;32m----> 2\u001b[0m     buf\u001b[38;5;241m=\u001b[39m\u001b[38;5;124mf\u001b[39m\u001b[38;5;124m\"\u001b[39m\u001b[38;5;124m./computation_time_stats/\u001b[39m\u001b[38;5;132;01m{\u001b[39;00m\u001b[43mscenario_file_name\u001b[49m\u001b[38;5;132;01m}\u001b[39;00m\u001b[38;5;124m.tex\u001b[39m\u001b[38;5;124m\"\u001b[39m,\n\u001b[1;32m      3\u001b[0m     label\u001b[38;5;241m=\u001b[39m\u001b[38;5;124mf\u001b[39m\u001b[38;5;124m\"\u001b[39m\u001b[38;5;124mtab:comp_stats_scenario_\u001b[39m\u001b[38;5;132;01m{\u001b[39;00mscenario_file_name\u001b[38;5;241m.\u001b[39msplit(\u001b[38;5;124m'\u001b[39m\u001b[38;5;124m_\u001b[39m\u001b[38;5;124m'\u001b[39m)[\u001b[38;5;241m1\u001b[39m]\u001b[38;5;132;01m}\u001b[39;00m\u001b[38;5;124m\"\u001b[39m,\n\u001b[1;32m      4\u001b[0m     caption\u001b[38;5;241m=\u001b[39m\u001b[38;5;124mf\u001b[39m\u001b[38;5;124m\"\u001b[39m\u001b[38;5;124mComputation time statistics for scenario \u001b[39m\u001b[38;5;132;01m{\u001b[39;00mscenario_file_name\u001b[38;5;241m.\u001b[39msplit(\u001b[38;5;124m'\u001b[39m\u001b[38;5;124m_\u001b[39m\u001b[38;5;124m'\u001b[39m)[\u001b[38;5;241m1\u001b[39m]\u001b[38;5;132;01m}\u001b[39;00m\u001b[38;5;124m\"\u001b[39m,\n\u001b[1;32m      5\u001b[0m )\n",
      "\u001b[0;31mNameError\u001b[0m: name 'scenario_file_name' is not defined"
     ]
    }
   ],
   "source": [
    "df_description.to_latex(\n",
    "    buf=f\"./computation_time_stats/{scenario_file_name}.tex\",\n",
    "    label=f\"tab:comp_stats_scenario_{scenario_file_name.split('_')[1]}\",\n",
    "    caption=f\"Computation time statistics for scenario {scenario_file_name.split('_')[1]}\",\n",
    ")"
   ]
  }
 ],
 "metadata": {
  "kernelspec": {
   "display_name": ".ad_venv",
   "language": "python",
   "name": "python3"
  },
  "language_info": {
   "codemirror_mode": {
    "name": "ipython",
    "version": 3
   },
   "file_extension": ".py",
   "mimetype": "text/x-python",
   "name": "python",
   "nbconvert_exporter": "python",
   "pygments_lexer": "ipython3",
   "version": "3.10.12"
  }
 },
 "nbformat": 4,
 "nbformat_minor": 2
}
