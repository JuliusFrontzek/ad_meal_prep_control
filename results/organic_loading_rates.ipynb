{
 "cells": [
  {
   "cell_type": "code",
   "execution_count": 283,
   "metadata": {},
   "outputs": [],
   "source": [
    "import numpy as np\n",
    "import do_mpc\n",
    "import pickle\n",
    "from pathlib import Path"
   ]
  },
  {
   "cell_type": "code",
   "execution_count": 284,
   "metadata": {},
   "outputs": [],
   "source": [
    "scenario_name = \"Scenario_2a_dynamic\""
   ]
  },
  {
   "cell_type": "code",
   "execution_count": 285,
   "metadata": {},
   "outputs": [],
   "source": [
    "data_simulation = do_mpc.data.load_results(\n",
    "            str(Path(f\"./{scenario_name}_mpc_results.pkl\"))\n",
    "        )\n",
    "data_simulator = data_simulation[\"simulator\"]\n",
    "data_mpc = data_simulation[\"mpc\"]\n",
    "with open(\n",
    "    Path(f\"./{scenario_name}_scenario_meta_data.pkl\"),\n",
    "    \"rb\",\n",
    ") as fp:\n",
    "    scenario_meta_data = pickle.load(fp)"
   ]
  },
  {
   "cell_type": "code",
   "execution_count": 287,
   "metadata": {},
   "outputs": [],
   "source": [
    "T_S = np.array([0.337, 0.317,0.808, 0.318]) #[%FM]\n",
    "XA = np.array([0.044,0.111,0.237,0.089]) #[%TS]"
   ]
  },
  {
   "cell_type": "code",
   "execution_count": 288,
   "metadata": {},
   "outputs": [
    {
     "data": {
      "text/plain": [
       "array([0.956, 0.889, 0.763, 0.911])"
      ]
     },
     "execution_count": 288,
     "metadata": {},
     "output_type": "execute_result"
    }
   ],
   "source": [
    "1-XA"
   ]
  },
  {
   "cell_type": "code",
   "execution_count": 289,
   "metadata": {},
   "outputs": [],
   "source": [
    "total_organic_loading_per_feed_pulse = data_simulator._u*scenario_meta_data[\"Tu\"][:4]*T_S * (1-XA) * scenario_meta_data[\"t_step\"]"
   ]
  },
  {
   "cell_type": "code",
   "execution_count": 290,
   "metadata": {},
   "outputs": [],
   "source": [
    "total_organic_loading_entire_simulation = np.sum(total_organic_loading_per_feed_pulse,axis=0)"
   ]
  },
  {
   "cell_type": "code",
   "execution_count": 291,
   "metadata": {},
   "outputs": [],
   "source": [
    "V_l = 163 #m"
   ]
  },
  {
   "cell_type": "code",
   "execution_count": 292,
   "metadata": {},
   "outputs": [],
   "source": [
    "daily_organic_loading_rates = total_organic_loading_entire_simulation/ scenario_meta_data[\"n_days_mpc\"]/V_l*1000 #kg/m^3\n"
   ]
  },
  {
   "cell_type": "code",
   "execution_count": 293,
   "metadata": {},
   "outputs": [
    {
     "data": {
      "text/plain": [
       "array([-1.40713513e-06, -1.26100840e-06,  4.25709183e+01,  1.26326966e+00])"
      ]
     },
     "execution_count": 293,
     "metadata": {},
     "output_type": "execute_result"
    }
   ],
   "source": [
    "daily_organic_loading_rates"
   ]
  },
  {
   "cell_type": "code",
   "execution_count": 294,
   "metadata": {},
   "outputs": [
    {
     "data": {
      "text/plain": [
       "43.834185331520736"
      ]
     },
     "execution_count": 294,
     "metadata": {},
     "output_type": "execute_result"
    }
   ],
   "source": [
    "daily_organic_loading_rate = np.sum(daily_organic_loading_rates)\n",
    "daily_organic_loading_rate"
   ]
  }
 ],
 "metadata": {
  "kernelspec": {
   "display_name": ".ad_venv",
   "language": "python",
   "name": "python3"
  },
  "language_info": {
   "codemirror_mode": {
    "name": "ipython",
    "version": 3
   },
   "file_extension": ".py",
   "mimetype": "text/x-python",
   "name": "python",
   "nbconvert_exporter": "python",
   "pygments_lexer": "ipython3",
   "version": "3.10.12"
  }
 },
 "nbformat": 4,
 "nbformat_minor": 2
}
